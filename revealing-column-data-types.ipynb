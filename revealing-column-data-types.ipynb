{
 "cells": [
  {
   "cell_type": "markdown",
   "metadata": {},
   "source": [
    "<div style=\"font-family:Robot,Arial,sans-serif; font-size:26px; font-weight:700;padding-top:60px;\">Discovering Data Types of Columns in a Dataset</div>"
   ]
  },
  {
   "cell_type": "markdown",
   "metadata": {},
   "source": [
    "<br/>\n",
    "One of the first things we can do after acquiring a set of data is to audit it or to devise a data audit plan (depending on the scale of the project). And sometimes the data audit would start off with familiarizing yourself with your data. In a sense, it is much like getting a \"lay of the land\". \n",
    "\n",
    "\n",
    "In this brief article, I will show you how we can get an idea of the various data types that are expressed in the features of a dataset."
   ]
  },
  {
   "cell_type": "markdown",
   "metadata": {},
   "source": [
    "<div style=\"font-family:Robot,Arial,sans-serif; font-size:20px; font-weight:700;padding-top:25px;\">Motivating Problem</div>"
   ]
  },
  {
   "cell_type": "markdown",
   "metadata": {},
   "source": []
  }
 ],
 "metadata": {
  "kernelspec": {
   "display_name": "New Python DAND-JDD",
   "language": "python",
   "name": "dand"
  },
  "language_info": {
   "codemirror_mode": {
    "name": "ipython",
    "version": 2
   },
   "file_extension": ".py",
   "mimetype": "text/x-python",
   "name": "python",
   "nbconvert_exporter": "python",
   "pygments_lexer": "ipython2",
   "version": "2.7.14"
  }
 },
 "nbformat": 4,
 "nbformat_minor": 2
}
